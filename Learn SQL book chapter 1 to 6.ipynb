{
 "cells": [
  {
   "cell_type": "code",
   "execution_count": 2,
   "metadata": {},
   "outputs": [
    {
     "data": {
      "text/html": [
       "\n",
       "<h2>This is the excerices from <a href\"https://www.oreilly.com/library/view/learning-sql-3rd/9781492057604/\">Learn SQL book</a><h2> \n"
      ],
      "text/plain": [
       "<IPython.core.display.HTML object>"
      ]
     },
     "metadata": {},
     "output_type": "display_data"
    }
   ],
   "source": [
    "%%HTML\n",
    "\n",
    "<h2>This is the excerices from <a href\"https://www.oreilly.com/library/view/learning-sql-3rd/9781492057604/\">Learn SQL book</a><h2> "
   ]
  },
  {
   "cell_type": "code",
   "execution_count": 2,
   "metadata": {},
   "outputs": [
    {
     "name": "stdout",
     "output_type": "stream",
     "text": [
      "<mysql.connector.connection_cext.CMySQLConnection object at 0x7f19bc64d590>\n"
     ]
    }
   ],
   "source": [
    "import mysql.connector\n",
    "\n",
    "cursor = None\n",
    "\n",
    "# Creating connection object\n",
    "\n",
    "def mysql_connect():\n",
    "    mydb = mysql.connector.connect(\n",
    "        host = \"localhost\",\n",
    "        user = \"sakila\",\n",
    "        password = \"p_ssW0rd\",\n",
    "        database = \"sakila\"\n",
    "\n",
    "    )\n",
    "\n",
    "    cursor = mydb.cursor()\n",
    "    \n",
    "    return mydb, cursor\n",
    " \n",
    "mydb, cursor= mysql_connect()\n",
    "\n",
    "# Printing the connection object \n",
    "print(mydb)"
   ]
  },
  {
   "cell_type": "code",
   "execution_count": 3,
   "metadata": {},
   "outputs": [],
   "source": [
    "def sql_execute(query:str, display=True):\n",
    "    mydb, cursor= mysql_connect()\n",
    "    cursor.execute(query)\n",
    "    if display:\n",
    "        for x in cursor:\n",
    "          print(x)"
   ]
  },
  {
   "cell_type": "code",
   "execution_count": 4,
   "metadata": {},
   "outputs": [],
   "source": [
    "# Get the column names\n",
    "def show_table_columns(table:str):\n",
    "    query = \"SHOW COLUMNS FROM {}\".format(table)\n",
    "    sql_execute(query)"
   ]
  },
  {
   "cell_type": "code",
   "execution_count": 5,
   "metadata": {},
   "outputs": [
    {
     "name": "stdout",
     "output_type": "stream",
     "text": [
      "(1, 'PENELOPE', 'GUINESS', datetime.datetime(2006, 2, 15, 4, 34, 33))\n"
     ]
    }
   ],
   "source": [
    "# Testing Query\n",
    "query = \"select * from actor LIMIT 1\"\n",
    "sql_execute(query)"
   ]
  },
  {
   "cell_type": "code",
   "execution_count": 6,
   "metadata": {},
   "outputs": [
    {
     "data": {
      "text/html": [
       "<h3>Chapter 1 and 2 have no exercises<h3>\n"
      ],
      "text/plain": [
       "<IPython.core.display.HTML object>"
      ]
     },
     "metadata": {},
     "output_type": "display_data"
    }
   ],
   "source": [
    "%%HTML\n",
    "<h3>Chapter 1 and 2 have no exercises<h3>"
   ]
  },
  {
   "cell_type": "code",
   "execution_count": 7,
   "metadata": {},
   "outputs": [
    {
     "data": {
      "text/html": [
       "<h3>Chapter 3 exercises<h3>\n",
       "<img src='images/chapter_3_exercises.png' width=800/>\n"
      ],
      "text/plain": [
       "<IPython.core.display.HTML object>"
      ]
     },
     "metadata": {},
     "output_type": "display_data"
    }
   ],
   "source": [
    "%%HTML\n",
    "<h3>Chapter 3 exercises<h3>\n",
    "<img src='images/chapter_3_exercises.png' width=800/>"
   ]
  },
  {
   "cell_type": "code",
   "execution_count": 8,
   "metadata": {},
   "outputs": [
    {
     "name": "stdout",
     "output_type": "stream",
     "text": [
      "(58, 'CHRISTIAN', 'AKROYD')\n",
      "(182, 'DEBBIE', 'AKROYD')\n",
      "(92, 'KIRSTEN', 'AKROYD')\n",
      "(118, 'CUBA', 'ALLEN')\n",
      "(145, 'KIM', 'ALLEN')\n",
      "(194, 'MERYL', 'ALLEN')\n",
      "(76, 'ANGELINA', 'ASTAIRE')\n",
      "(112, 'RUSSELL', 'BACALL')\n",
      "(190, 'AUDREY', 'BAILEY')\n",
      "(67, 'JESSICA', 'BAILEY')\n",
      "(115, 'HARRISON', 'BALE')\n",
      "(187, 'RENEE', 'BALL')\n",
      "(47, 'JULIA', 'BARRYMORE')\n",
      "(158, 'VIVIEN', 'BASINGER')\n",
      "(174, 'MICHAEL', 'BENING')\n",
      "(124, 'SCARLETT', 'BENING')\n",
      "(14, 'VIVIEN', 'BERGEN')\n",
      "(121, 'LIZA', 'BERGMAN')\n",
      "(91, 'CHRISTOPHER', 'BERRY')\n",
      "(60, 'HENRY', 'BERRY')\n",
      "(12, 'KARL', 'BERRY')\n",
      "(189, 'CUBA', 'BIRCH')\n",
      "(25, 'KEVIN', 'BLOOM')\n",
      "(185, 'MICHAEL', 'BOLGER')\n",
      "(37, 'VAL', 'BOLGER')\n",
      "(98, 'CHRIS', 'BRIDGES')\n",
      "(39, 'GOLDIE', 'BRODY')\n",
      "(159, 'LAURA', 'BRODY')\n",
      "(167, 'LAURENCE', 'BULLOCK')\n",
      "(40, 'JOHNNY', 'CAGE')\n",
      "(11, 'ZERO', 'CAGE')\n",
      "(181, 'MATTHEW', 'CARREY')\n",
      "(86, 'GREG', 'CHAPLIN')\n",
      "(3, 'ED', 'CHASE')\n",
      "(176, 'JON', 'CHASE')\n",
      "(183, 'RUSSELL', 'CLOSE')\n",
      "(16, 'FRED', 'COSTNER')\n",
      "(129, 'DARYL', 'CRAWFORD')\n",
      "(26, 'RIP', 'CRAWFORD')\n",
      "(49, 'ANNE', 'CRONYN')\n",
      "(104, 'PENELOPE', 'CRONYN')\n",
      "(105, 'SIDNEY', 'CROWE')\n",
      "(57, 'JUDE', 'CRUISE')\n",
      "(80, 'RALPH', 'CRUZ')\n",
      "(81, 'SCARLETT', 'DAMON')\n",
      "(4, 'JENNIFER', 'DAVIS')\n",
      "(110, 'SUSAN', 'DAVIS')\n",
      "(101, 'SUSAN', 'DAVIS')\n",
      "(48, 'FRANCES', 'DAY-LEWIS')\n",
      "(35, 'JUDY', 'DEAN')\n",
      "(143, 'RIVER', 'DEAN')\n",
      "(148, 'EMILY', 'DEE')\n",
      "(138, 'LUCILLE', 'DEE')\n",
      "(107, 'GINA', 'DEGENERES')\n",
      "(41, 'JODIE', 'DEGENERES')\n",
      "(166, 'NICK', 'DEGENERES')\n",
      "(89, 'CHARLIZE', 'DENCH')\n",
      "(123, 'JULIANNE', 'DENCH')\n",
      "(160, 'CHRIS', 'DEPP')\n",
      "(100, 'SPENCER', 'DEPP')\n",
      "(109, 'SYLVESTER', 'DERN')\n",
      "(173, 'ALAN', 'DREYFUSS')\n",
      "(36, 'BURT', 'DUKAKIS')\n",
      "(188, 'ROCK', 'DUKAKIS')\n",
      "(106, 'GROUCHO', 'DUNST')\n",
      "(19, 'BOB', 'FAWCETT')\n",
      "(199, 'JULIA', 'FAWCETT')\n",
      "(10, 'CHRISTIAN', 'GABLE')\n",
      "(165, 'AL', 'GARLAND')\n",
      "(184, 'HUMPHREY', 'GARLAND')\n",
      "(127, 'KEVIN', 'GARLAND')\n",
      "(154, 'MERYL', 'GIBSON')\n",
      "(46, 'PARKER', 'GOLDBERG')\n",
      "(139, 'EWAN', 'GOODING')\n",
      "(191, 'GREGORY', 'GOODING')\n",
      "(71, 'ADAM', 'GRANT')\n",
      "(179, 'ED', 'GUINESS')\n",
      "(1, 'PENELOPE', 'GUINESS')\n",
      "(90, 'SEAN', 'GUINESS')\n",
      "(32, 'TIM', 'HACKMAN')\n",
      "(175, 'WILLIAM', 'HACKMAN')\n",
      "(152, 'BEN', 'HARRIS')\n",
      "(141, 'CATE', 'HARRIS')\n",
      "(56, 'DAN', 'HARRIS')\n",
      "(97, 'MEG', 'HAWKE')\n",
      "(151, 'GEOFFREY', 'HESTON')\n",
      "(169, 'KENNETH', 'HOFFMAN')\n",
      "(79, 'MAE', 'HOFFMAN')\n",
      "(28, 'WOODY', 'HOFFMAN')\n",
      "(161, 'HARVEY', 'HOPE')\n",
      "(134, 'GENE', 'HOPKINS')\n",
      "(113, 'MORGAN', 'HOPKINS')\n",
      "(50, 'NATALIE', 'HOPKINS')\n",
      "(132, 'ADAM', 'HOPPER')\n",
      "(170, 'MENA', 'HOPPER')\n",
      "(65, 'ANGELA', 'HUDSON')\n",
      "(52, 'CARMEN', 'HUNT')\n",
      "(140, 'WHOOPI', 'HURT')\n",
      "(131, 'JANE', 'JACKMAN')\n",
      "(119, 'WARREN', 'JACKMAN')\n",
      "(146, 'ALBERT', 'JOHANSSON')\n",
      "(8, 'MATTHEW', 'JOHANSSON')\n",
      "(64, 'RAY', 'JOHANSSON')\n",
      "(82, 'WOODY', 'JOLIE')\n",
      "(43, 'KIRK', 'JOVOVICH')\n",
      "(130, 'GRETA', 'KEITEL')\n",
      "(198, 'MARY', 'KEITEL')\n",
      "(74, 'MILLA', 'KEITEL')\n",
      "(55, 'FAY', 'KILMER')\n",
      "(153, 'MINNIE', 'KILMER')\n",
      "(162, 'OPRAH', 'KILMER')\n",
      "(45, 'REESE', 'KILMER')\n",
      "(23, 'SANDRA', 'KILMER')\n",
      "(103, 'MATTHEW', 'LEIGH')\n",
      "(5, 'JOHNNY', 'LOLLOBRIGIDA')\n",
      "(157, 'GRETA', 'MALDEN')\n",
      "(136, 'ED', 'MANSFIELD')\n",
      "(22, 'ELVIS', 'MARX')\n",
      "(77, 'CARY', 'MCCONAUGHEY')\n",
      "(70, 'MICHELLE', 'MCCONAUGHEY')\n",
      "(114, 'MORGAN', 'MCDORMAND')\n",
      "(177, 'GENE', 'MCKELLEN')\n",
      "(38, 'TOM', 'MCKELLEN')\n",
      "(128, 'CATE', 'MCQUEEN')\n",
      "(27, 'JULIA', 'MCQUEEN')\n",
      "(42, 'TOM', 'MIRANDA')\n",
      "(178, 'LISA', 'MONROE')\n",
      "(120, 'PENELOPE', 'MONROE')\n",
      "(7, 'GRACE', 'MOSTEL')\n",
      "(99, 'JIM', 'MOSTEL')\n",
      "(61, 'CHRISTIAN', 'NEESON')\n",
      "(62, 'JAYNE', 'NEESON')\n",
      "(6, 'BETTE', 'NICHOLSON')\n",
      "(125, 'ALBERT', 'NOLTE')\n",
      "(150, 'JAYNE', 'NOLTE')\n",
      "(122, 'SALMA', 'NOLTE')\n",
      "(108, 'WARREN', 'NOLTE')\n",
      "(34, 'AUDREY', 'OLIVIER')\n",
      "(15, 'CUBA', 'OLIVIER')\n",
      "(69, 'KENNETH', 'PALTROW')\n",
      "(21, 'KIRSTEN', 'PALTROW')\n",
      "(33, 'MILLA', 'PECK')\n",
      "(30, 'SANDRA', 'PECK')\n",
      "(87, 'SPENCER', 'PECK')\n",
      "(73, 'GARY', 'PENN')\n",
      "(133, 'RICHARD', 'PENN')\n",
      "(88, 'KENNETH', 'PESCI')\n",
      "(171, 'OLYMPIA', 'PFEIFFER')\n",
      "(51, 'GARY', 'PHOENIX')\n",
      "(54, 'PENELOPE', 'PINKETT')\n",
      "(84, 'JAMES', 'PITT')\n",
      "(75, 'BURT', 'POSEY')\n",
      "(93, 'ELLEN', 'PRESLEY')\n",
      "(135, 'RITA', 'REYNOLDS')\n",
      "(142, 'JADA', 'RYDER')\n",
      "(195, 'JAYNE', 'SILVERSTONE')\n",
      "(180, 'JEFF', 'SILVERSTONE')\n",
      "(78, 'GROUCHO', 'SINATRA')\n",
      "(31, 'SISSY', 'SOBIESKI')\n",
      "(44, 'NICK', 'STALLONE')\n",
      "(24, 'CAMERON', 'STREEP')\n",
      "(116, 'DAN', 'STREEP')\n",
      "(192, 'JOHN', 'SUVARI')\n",
      "(9, 'JOE', 'SWANK')\n",
      "(155, 'IAN', 'TANDY')\n",
      "(66, 'MARY', 'TANDY')\n",
      "(59, 'DUSTIN', 'TAUTOU')\n",
      "(193, 'BURT', 'TEMPLE')\n",
      "(53, 'MENA', 'TEMPLE')\n",
      "(149, 'RUSSELL', 'TEMPLE')\n",
      "(200, 'THORA', 'TEMPLE')\n",
      "(126, 'FRANCES', 'TOMEI')\n",
      "(18, 'DAN', 'TORN')\n",
      "(94, 'KENNETH', 'TORN')\n",
      "(102, 'WALTER', 'TORN')\n",
      "(20, 'LUCILLE', 'TRACY')\n",
      "(117, 'RENEE', 'TRACY')\n",
      "(17, 'HELEN', 'VOIGHT')\n",
      "(95, 'DARYL', 'WAHLBERG')\n",
      "(2, 'NICK', 'WAHLBERG')\n",
      "(196, 'BELA', 'WALKEN')\n",
      "(29, 'ALEC', 'WAYNE')\n",
      "(163, 'CHRISTOPHER', 'WEST')\n",
      "(197, 'REESE', 'WEST')\n",
      "(172, 'GROUCHO', 'WILLIAMS')\n",
      "(137, 'MORGAN', 'WILLIAMS')\n",
      "(72, 'SEAN', 'WILLIAMS')\n",
      "(83, 'BEN', 'WILLIS')\n",
      "(96, 'GENE', 'WILLIS')\n",
      "(164, 'HUMPHREY', 'WILLIS')\n",
      "(168, 'WILL', 'WILSON')\n",
      "(147, 'FAY', 'WINSLET')\n",
      "(68, 'RIP', 'WINSLET')\n",
      "(144, 'ANGELA', 'WITHERSPOON')\n",
      "(156, 'FAY', 'WOOD')\n",
      "(13, 'UMA', 'WOOD')\n",
      "(63, 'CAMERON', 'WRAY')\n",
      "(111, 'CAMERON', 'ZELLWEGER')\n",
      "(186, 'JULIA', 'ZELLWEGER')\n",
      "(85, 'MINNIE', 'ZELLWEGER')\n"
     ]
    }
   ],
   "source": [
    "# Exercise 3-1\n",
    "\n",
    "query = \"SELECT actor_id, first_name, last_name FROM actor ORDER BY last_name, first_name\"\n",
    "# or we can write this based on column order in the SELECT statement\n",
    "query = \"SELECT actor_id, first_name, last_name FROM actor ORDER BY 3, 2\"\n",
    "\n",
    "sql_execute(query)\n",
    "\n"
   ]
  },
  {
   "cell_type": "code",
   "execution_count": 9,
   "metadata": {},
   "outputs": [
    {
     "name": "stdout",
     "output_type": "stream",
     "text": [
      "(4, 'JENNIFER', 'DAVIS')\n",
      "(101, 'SUSAN', 'DAVIS')\n",
      "(110, 'SUSAN', 'DAVIS')\n",
      "(72, 'SEAN', 'WILLIAMS')\n",
      "(137, 'MORGAN', 'WILLIAMS')\n",
      "(172, 'GROUCHO', 'WILLIAMS')\n"
     ]
    }
   ],
   "source": [
    "# Exercise 3-2\n",
    "\n",
    "query = \"SELECT actor_id, first_name, last_name FROM actor WHERE last_name='WILLIAMS' OR last_name='DAVIS'\"\n",
    "sql_execute(query)"
   ]
  },
  {
   "cell_type": "code",
   "execution_count": 10,
   "metadata": {},
   "outputs": [
    {
     "name": "stdout",
     "output_type": "stream",
     "text": [
      "(8,)\n",
      "(37,)\n",
      "(60,)\n",
      "(111,)\n",
      "(114,)\n",
      "(138,)\n",
      "(142,)\n",
      "(169,)\n",
      "(242,)\n",
      "(295,)\n",
      "(296,)\n",
      "(298,)\n",
      "(322,)\n",
      "(348,)\n",
      "(349,)\n",
      "(369,)\n",
      "(382,)\n",
      "(397,)\n",
      "(421,)\n",
      "(476,)\n",
      "(490,)\n",
      "(520,)\n",
      "(536,)\n",
      "(553,)\n",
      "(565,)\n",
      "(586,)\n",
      "(594,)\n"
     ]
    }
   ],
   "source": [
    "# Exercise 3-3\n",
    "#show_table_columns('rental')\n",
    "query = \"SELECT DISTINCT customer_id FROM rental WHERE DATE(rental_date)='2005-07-05'\"\n",
    "sql_execute(query)"
   ]
  },
  {
   "cell_type": "code",
   "execution_count": 11,
   "metadata": {},
   "outputs": [
    {
     "data": {
      "text/html": [
       "<h3>Chapter 4 exercises<h3>\n",
       "<img src='images/chapter_4_exercises.png' width=800/>\n"
      ],
      "text/plain": [
       "<IPython.core.display.HTML object>"
      ]
     },
     "metadata": {},
     "output_type": "display_data"
    }
   ],
   "source": [
    "%%HTML\n",
    "<h3>Chapter 4 exercises<h3>\n",
    "<img src='images/chapter_4_exercises.png' width=800/>"
   ]
  },
  {
   "cell_type": "code",
   "execution_count": 20,
   "metadata": {},
   "outputs": [
    {
     "name": "stdout",
     "output_type": "stream",
     "text": [
      "(Decimal('7.98'),)\n",
      "(Decimal('9.98'),)\n",
      "(Decimal('1.98'),)\n",
      "(Decimal('7.98'),)\n",
      "(Decimal('7.98'),)\n",
      "(Decimal('7.98'),)\n",
      "(Decimal('7.98'),)\n",
      "(Decimal('7.98'),)\n",
      "(Decimal('9.98'),)\n",
      "(Decimal('1.98'),)\n",
      "(Decimal('7.98'),)\n",
      "(Decimal('7.98'),)\n",
      "(Decimal('7.98'),)\n",
      "(Decimal('7.98'),)\n"
     ]
    }
   ],
   "source": [
    "# Exercise 4-3\n",
    "#show_table_columns('payment')\n",
    "\n",
    "# Using OR\n",
    "\n",
    "query = \"SELECT amount FROM payment WHERE amount=1.98 OR amount=7.98 OR amount=9.98\"\n",
    "sql_execute(query)\n",
    "\n",
    "# Using IN - This is cleaner than OR statement\n",
    "\n",
    "query = \"SELECT amount FROM payment WHERE amount IN (1.98,7.98,9.98)\"\n",
    "sql_execute(query)\n"
   ]
  },
  {
   "cell_type": "code",
   "execution_count": 25,
   "metadata": {},
   "outputs": [
    {
     "name": "stdout",
     "output_type": "stream",
     "text": [
      "('KAY', 'CALDWELL')\n",
      "('JOHN', 'FARNSWORTH')\n",
      "('JILL', 'HAWKINS')\n",
      "('LEE', 'HAWKS')\n",
      "('LAURIE', 'LAWRENCE')\n",
      "('JEANNE', 'LAWSON')\n",
      "('LAWRENCE', 'LAWTON')\n",
      "('SAMUEL', 'MARLOW')\n",
      "('ERICA', 'MATTHEWS')\n"
     ]
    }
   ],
   "source": [
    "# Exercise 4-4\n",
    "#show_table_columns('customer')\n",
    "query = \"SELECT first_name, last_name FROM customer WHERE last_name LIKE '_A%W%' ORDER BY last_name;\"\n",
    "sql_execute(query)"
   ]
  },
  {
   "cell_type": "code",
   "execution_count": 28,
   "metadata": {},
   "outputs": [
    {
     "data": {
      "text/html": [
       "<h3>Chapter 5 exercises</h3>\n",
       "<br/>\n",
       "1. Write a query that returns the title of every film in which an actor with first name JOHN appeared.\n",
       "<br/>\n",
       "2. Construct a Query that returns all addresses that are in the same city. you will need to join the address table to itself, and each row should include two diffeent addresses.\n",
       "\n",
       "<br/>\n"
      ],
      "text/plain": [
       "<IPython.core.display.HTML object>"
      ]
     },
     "metadata": {},
     "output_type": "display_data"
    }
   ],
   "source": [
    "%%HTML\n",
    "<h3>Chapter 5 exercises</h3>\n",
    "<br/>\n",
    "1. Write a query that returns the title of every film in which an actor with first name JOHN appeared.\n",
    "<br/>\n",
    "2. Construct a Query that returns all addresses that are in the same city. you will need to join the address table to itself, and each row should include two diffeent addresses.\n",
    "<br/>"
   ]
  },
  {
   "cell_type": "code",
   "execution_count": 52,
   "metadata": {},
   "outputs": [
    {
     "name": "stdout",
     "output_type": "stream",
     "text": [
      "('ALLEY EVOLUTION',)\n",
      "('BEVERLY OUTLAW',)\n",
      "('CANDLES GRAPES',)\n",
      "('CLEOPATRA DEVIL',)\n",
      "('COLOR PHILADELPHIA',)\n",
      "('CONQUERER NUTS',)\n",
      "('DAUGHTER MADIGAN',)\n",
      "('GLEAMING JAWBREAKER',)\n",
      "('GOLDMINE TYCOON',)\n",
      "('HOME PITY',)\n",
      "('INTERVIEW LIAISONS',)\n",
      "('ISHTAR ROCKETEER',)\n",
      "('JAPANESE RUN',)\n",
      "('JERSEY SASSY',)\n",
      "('LUKE MUMMY',)\n",
      "('MILLION ACE',)\n",
      "('MONSTER SPARTACUS',)\n",
      "('NAME DETECTIVE',)\n",
      "('NECKLACE OUTBREAK',)\n",
      "('NEWSIES STORY',)\n",
      "('PET HAUNTING',)\n",
      "('PIANIST OUTFIELD',)\n",
      "('PINOCCHIO SIMON',)\n",
      "('PITTSBURGH HUNCHBACK',)\n",
      "('QUILLS BULL',)\n",
      "('RAGING AIRPLANE',)\n",
      "('ROXANNE REBEL',)\n",
      "('SATISFACTION CONFIDENTIAL',)\n",
      "('SONG HEDWIG',)\n"
     ]
    }
   ],
   "source": [
    "# Exercise 5-1\n",
    "#sql_execute(\"SHOW TABLES;\")\n",
    "#show_table_columns('film')\n",
    "#show_table_columns('actor')\n",
    "#show_table_columns('film_actor')\n",
    "\n",
    "# Solution is implemented using multiple joins\n",
    "query = \"SELECT f.title FROM film f INNER JOIN film_actor fa  ON f.film_id=fa.film_id INNER JOIN actor a ON fa.actor_id=a.actor_id WHERE a.first_name='JOHN'\"\n",
    "sql_execute(query)"
   ]
  },
  {
   "cell_type": "code",
   "execution_count": 62,
   "metadata": {},
   "outputs": [
    {
     "name": "stdout",
     "output_type": "stream",
     "text": [
      "('23 Workhaven Lane', '47 MySakila Drive', 300)\n",
      "('1411 Lillydale Drive', '28 MySQL Boulevard', 576)\n",
      "('1497 Yuzhou Drive', '548 Uruapan Street', 312)\n",
      "('43 Vilnius Manor', '587 Benguela Manor', 42)\n"
     ]
    }
   ],
   "source": [
    "# Exercise 5-2\n",
    "# Construct a Query that returns all addresses that are in the same city. \n",
    "# you will need to join the address table to itself, and each row should include two diffeent addresses.\n",
    "#sql_execute(\"SHOW TABLES;\")\n",
    "#show_table_columns('address')\n",
    "#show_table_columns('city')\n",
    "query = \"SELECT a1.address, a2.address, a1.city_id  FROM address a1 INNER JOIN address a2 ON a1.city_id = a2.city_id AND a1.address < a2.address\"\n",
    "sql_execute(query)"
   ]
  },
  {
   "cell_type": "code",
   "execution_count": null,
   "metadata": {},
   "outputs": [],
   "source": []
  }
 ],
 "metadata": {
  "kernelspec": {
   "display_name": "Python 3",
   "language": "python",
   "name": "python3"
  },
  "language_info": {
   "codemirror_mode": {
    "name": "ipython",
    "version": 3
   },
   "file_extension": ".py",
   "mimetype": "text/x-python",
   "name": "python",
   "nbconvert_exporter": "python",
   "pygments_lexer": "ipython3",
   "version": "3.7.4"
  }
 },
 "nbformat": 4,
 "nbformat_minor": 4
}
